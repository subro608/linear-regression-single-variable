{
  "nbformat": 4,
  "nbformat_minor": 0,
  "metadata": {
    "colab": {
      "name": "spellchecker_copy",
      "version": "0.3.2",
      "provenance": [],
      "private_outputs": true,
      "include_colab_link": true
    },
    "kernelspec": {
      "name": "python3",
      "display_name": "Python 3"
    }
  },
  "cells": [
    {
      "cell_type": "markdown",
      "metadata": {
        "id": "view-in-github",
        "colab_type": "text"
      },
      "source": [
        "<a href=\"https://colab.research.google.com/github/subro608/linear-regression-single-variable/blob/master/spellchecker_copy.ipynb\" target=\"_parent\"><img src=\"https://colab.research.google.com/assets/colab-badge.svg\" alt=\"Open In Colab\"/></a>"
      ]
    },
    {
      "cell_type": "code",
      "metadata": {
        "id": "L4i29pXI44J1",
        "colab_type": "code",
        "colab": {}
      },
      "source": [
        "from google.colab import files\n",
        "\n",
        "uploaded = files.upload()\n",
        "\n",
        "for fn in uploaded.keys():\n",
        "  print('User uploaded file \"{name}\" with length {length} bytes'.format(\n",
        "      name=fn, length=len(uploaded[fn])))\n"
      ],
      "execution_count": 0,
      "outputs": []
    },
    {
      "cell_type": "code",
      "metadata": {
        "id": "omUDGknU5piH",
        "colab_type": "code",
        "colab": {}
      },
      "source": [
        "import numpy as np\n",
        "\n",
        "\n",
        "right = []\n",
        "wrong = []\n",
        "word2dict = {}\n",
        "\n",
        "\n",
        "with open('spell-errors.txt') as f:\n",
        "  for line in f:\n",
        "    right_words = line.split(':')\n",
        "    right.append(right_words[0])\n",
        "    print(right_words[0])\n",
        "    wrong_words = right_words[1].split(',')\n",
        "   \n",
        "    wrong.append(wrong_words)\n",
        "    word2dict[right_words[0]]  = wrong_words\n",
        "\n",
        "alphabet = 'abcdefghijklmnopqrstuvwxyz -'\n",
        "\n",
        "def split(word): \n",
        "    return [char for char in word] "
      ],
      "execution_count": 0,
      "outputs": []
    },
    {
      "cell_type": "code",
      "metadata": {
        "id": "Bshw2cKr57Gn",
        "colab_type": "code",
        "colab": {}
      },
      "source": [
        "word_dict = {}\n",
        "for i,char in enumerate(alphabet):\n",
        "  word_dict[char] = i\n",
        "  print(char,i)"
      ],
      "execution_count": 0,
      "outputs": []
    },
    {
      "cell_type": "code",
      "metadata": {
        "id": "HIw1RJgI8o0B",
        "colab_type": "code",
        "colab": {}
      },
      "source": [
        "\n",
        "def edittype(candidate,word):\n",
        "  \n",
        "  \n",
        "  edit = [False]*4\n",
        "  correct = ''\n",
        "  error = ''\n",
        "  x = ''\n",
        "  y = ''\n",
        "  for i in range(min([len(word),len(candidate)])-1):\n",
        "    if candidate[0:i+1] != word[0:i+1]:\n",
        "      if candidate[i:] == word[i-1:]:\n",
        "        edit[1] = True\n",
        "        correct = candidate[i-1]\n",
        "        error = ''\n",
        "        x = candidate[i-2]\n",
        "        w = candidate[i-2]+candidate[i-1]\n",
        "        break\n",
        "      elif candidate[i:] == word[i+1:]:\n",
        "        \n",
        "        correct = ''\n",
        "        error = word[i]\n",
        "        if i == 0:\n",
        "          w = '_'\n",
        "          x = '_'+error\n",
        "        else:\n",
        "          w = word[i-1]\n",
        "          x = word[i-1]+error\n",
        "        edit[0] = True\n",
        "        break\n",
        "      if candidate[i+1:] == word[i+1:]:\n",
        "        \n",
        "        edit[2] = True\n",
        "        error = candidate[i]\n",
        "        correct = word[i]\n",
        "        x = error\n",
        "        w = correct\n",
        "        break\n",
        "      if candidate[i] == word[i+1] and candidate[i+2:] == word[i+2:]:\n",
        "        \n",
        "        edit[3] = True\n",
        "        correct = candidate[i]+candidate[i+1]\n",
        "        error = word[i]+word[i+1]\n",
        "        x = error\n",
        "        w = correct\n",
        "        break\n",
        "  candidate = candidate[::-1]\n",
        "  word = word[::-1] \n",
        "  for i in range(min([len(word),len(candidate)])-1):\n",
        "    \n",
        "    if candidate[0:i+1] != word[0:i+1]:\n",
        "      \n",
        "      if candidate[i:] == word[i-1:]:\n",
        "        \n",
        "        edit[1] = True\n",
        "        correct = candidate[i-1]\n",
        "        error = ''\n",
        "        x = candidate[i-2]\n",
        "        w = candidate[i-2]+candidate[i-1]\n",
        "        break\n",
        "      elif candidate[i:] == word[i+1:]:\n",
        "        \n",
        "        correct = ''\n",
        "        error = word[i]\n",
        "        if i == 0:\n",
        "          w = '_'\n",
        "          x = '_'+error\n",
        "        else:\n",
        "          w = word[i-1]\n",
        "          x = word[i-1]+error\n",
        "        edit[0] = True\n",
        "        break\n",
        "      if candidate[i+1:] == word[i+1:]:\n",
        "        \n",
        "        edit[2] = True\n",
        "        error = candidate[i]\n",
        "        correct = word[i]\n",
        "        x = error\n",
        "        w = correct\n",
        "        break\n",
        "      if candidate[i] == word[i+1] and candidate[i+2:] == word[i+2:]:\n",
        "        \n",
        "        edit[3] = True\n",
        "        correct = candidate[i]+candidate[i+1]\n",
        "        error = word[i]+word[i+1]\n",
        "        x = error\n",
        "        w = correct\n",
        "        break\n",
        "  if word == candidate:\n",
        "    return \"not required\",'',''\n",
        "  if edit[1]:\n",
        "    return \"Deletion\",x,w\n",
        "  elif edit[0]:\n",
        "    return \"Insertion\",x,w\n",
        "  elif edit[2]:\n",
        "    return \"Substitution\",x,w\n",
        "  elif edit[3]:\n",
        "    return \"Reversal\",x,w\n",
        "  else :\n",
        "    return \"not required\",'',''  "
      ],
      "execution_count": 0,
      "outputs": []
    },
    {
      "cell_type": "code",
      "metadata": {
        "id": "-zwAF-fS6PuZ",
        "colab_type": "code",
        "colab": {}
      },
      "source": [
        "sub_matrix = np.zeros((28,28))\n",
        "add_matrix = np.zeros((28,28))\n",
        "del_matrix = np.zeros((28,28))\n",
        "trans_matrix = np.zeros((28,28))\n",
        "\n",
        "def subconfusion_matrix(sub_matrix,x,y):\n",
        "  if x in split(alphabet) and y in split(alphabet):\n",
        "    \n",
        "    sub_matrix[word_dict[x]][word_dict[y]] += 1\n",
        "  \n",
        "  \n",
        "def addconfusion_matrix(add_matrix,x,y):\n",
        "  if x in split(alphabet) and y in split(alphabet):\n",
        "    \n",
        "    add_matrix[word_dict[x]][word_dict[y]] += 1\n",
        "  \n",
        "  \n",
        "def delconfusion_matrix(del_matrix,x,y):\n",
        "  \n",
        "  if x in split(alphabet) and y in split(alphabet):\n",
        "    \n",
        "    del_matrix[word_dict[x]][word_dict[y]] += 1\n",
        "  \n",
        "  \n",
        "  \n",
        "def transconfusion_matrix(trans_matrix,x,y):\n",
        "  if x in split(alphabet) and y in split(alphabet):\n",
        "    \n",
        "    trans_matrix[word_dict[x]][word_dict[y]] += 1"
      ],
      "execution_count": 0,
      "outputs": []
    },
    {
      "cell_type": "code",
      "metadata": {
        "id": "0FgaexSkxKeP",
        "colab_type": "code",
        "colab": {}
      },
      "source": [
        "\n",
        "for right_word in right:\n",
        "  for wrong_word in word2dict[right_word]:\n",
        "    new_wrong_word = wrong_word.lstrip()\n",
        "    type,x,w = edittype(new_wrong_word.strip('\\n'),right_word.strip('\\n'))\n",
        "    \n",
        "    \n",
        "\n",
        "    \n",
        "    if type == 'Deletion':\n",
        "      \n",
        "      \n",
        "      delconfusion_matrix(del_matrix,w[0],w[1])\n",
        "        \n",
        "        \n",
        "    elif type == 'Insertion':\n",
        "      \n",
        "      addconfusion_matrix(add_matrix,x[1],w)\n",
        "        \n",
        "        \n",
        "    elif type == 'Substitution':\n",
        "      \n",
        "      subconfusion_matrix(sub_matrix,x,w)\n",
        "        \n",
        "        \n",
        "    elif type == 'Reversal':\n",
        "      \n",
        "      transconfusion_matrix(trans_matrix,x[1],w[1])  "
      ],
      "execution_count": 0,
      "outputs": []
    },
    {
      "cell_type": "code",
      "metadata": {
        "id": "w4J4mxG75EC2",
        "colab_type": "code",
        "colab": {}
      },
      "source": [
        "print(np.sum(del_matrix),np.sum(sub_matrix),np.sum(add_matrix),np.sum(trans_matrix))"
      ],
      "execution_count": 0,
      "outputs": []
    },
    {
      "cell_type": "code",
      "metadata": {
        "id": "6IBOwXxf60Gh",
        "colab_type": "code",
        "colab": {}
      },
      "source": [
        "def edits1(word):\n",
        "   splits     = [(word[:i], word[i:]) for i in range(len(word) + 1)]\n",
        "   deletes    = [a + b[1:] for a, b in splits if b]\n",
        "   transposes = [a + b[1] + b[0] + b[2:] for a, b in splits if len(b)>1]\n",
        "   replaces   = [a + c + b[1:] for a, b in splits for c in alphabet if b]\n",
        "   inserts    = [a + c + b     for a, b in splits for c in alphabet]\n",
        "   return set(deletes + transposes + replaces + inserts)\n"
      ],
      "execution_count": 0,
      "outputs": []
    },
    {
      "cell_type": "code",
      "metadata": {
        "id": "VUeIvSauAvrq",
        "colab_type": "code",
        "colab": {}
      },
      "source": [
        "word = 'higher'\n",
        "splits     = [(word[:i], word[i:]) for i in range(len(word) + 1)]\n",
        "deletes    = [a + b[1:] for a, b in splits if b]\n",
        "deletes"
      ],
      "execution_count": 0,
      "outputs": []
    },
    {
      "cell_type": "code",
      "metadata": {
        "id": "kAn3SNwFVs-1",
        "colab_type": "code",
        "colab": {}
      },
      "source": [
        "def known_edits1(word):\n",
        "  return set(e1 for e1 in edits1(word) if e1 in right)"
      ],
      "execution_count": 0,
      "outputs": []
    },
    {
      "cell_type": "code",
      "metadata": {
        "id": "SgjBEto2lUV7",
        "colab_type": "code",
        "colab": {}
      },
      "source": [
        "def prob_estimate(candidate_words,error_word):\n",
        "  prob_word = {}\n",
        "\n",
        "  for word in candidate_words:\n",
        "    type,x,w = edittype(error_word,word)\n",
        "    if type == 'Deletion':  \n",
        "      if w[0] in split(alphabet) and w[1] in split(alphabet):\n",
        "        \n",
        "        count_num = del_matrix[word_dict[w[0]]][word_dict[w[1]]]\n",
        "        total_count = del_matrix[word_dict[w[0]]][word_dict[w[1]]]+sub_matrix[word_dict[w[0]]][word_dict[w[1]]]+add_matrix[word_dict[w[0]]][word_dict[w[1]]]+trans_matrix[word_dict[w[0]]][word_dict[w[1]]]\n",
        "      \n",
        "      \n",
        "    elif type == 'Insertion':\n",
        "      if x[1] in split(alphabet) and w in split(alphabet):\n",
        "          \n",
        "        count_num = add_matrix[word_dict[x[1]]][word_dict[w]]\n",
        "        total_count = add_matrix[word_dict[w]] + del_matrix[word_dict[w]] + sub_matrix[word_dict[w]] + trans_matrix[word_dict[w]]\n",
        "      \n",
        "    elif type == 'Substitution':\n",
        "      if x in split(alphabet) and w in split(alphabet):\n",
        "        count_num = sub_matrix[word_dict[x]][word_dict[w]] \n",
        "        total_count = sub_matrix[word_dict[x]][word_dict[w]]+del_matrix[word_dict[x]][word_dict[w]]+add_matrix[word_dict[x]][word_dict[w]]+trans_matrix[word_dict[x]][word_dict[w]] \n",
        "                             \n",
        "      \n",
        "        \n",
        "    elif type == 'Reversal':\n",
        "      if x[1] in split(alphabet) and w[1] in split(alphabet):\n",
        "        count_num = trans_matrix[word_dict[x[1]]][word_dict[w[1]]]\n",
        "        total_count = trans_matrix[word_dict[x[1]]][word_dict[w[1]]]+add_matrix[word_dict[x[1]]][word_dict[w[1]]]+sub_matrix[word_dict[x[1]]][word_dict[w[1]]]+del_matrix[word_dict[x[1]]][word_dict[w[1]]]\n",
        "   \n",
        "      \n",
        "    prob_word[word] = count_num/np.sum(total_count)\n",
        "  return prob_word  \n",
        "    \n",
        "    \n",
        "    \n",
        "      \n",
        "      \n",
        "    \n",
        "    "
      ],
      "execution_count": 0,
      "outputs": []
    },
    {
      "cell_type": "code",
      "metadata": {
        "id": "e9REYcz-ToAX",
        "colab_type": "code",
        "colab": {}
      },
      "source": [
        "prob_estimate(known_edits1('speling'),'speling')"
      ],
      "execution_count": 0,
      "outputs": []
    },
    {
      "cell_type": "code",
      "metadata": {
        "id": "E311bedlE208",
        "colab_type": "code",
        "colab": {}
      },
      "source": [
        "from google.colab import files\n",
        "\n",
        "uploaded = files.upload()\n",
        "\n",
        "for fn in uploaded.keys():\n",
        "  print('User uploaded file \"{name}\" with length {length} bytes'.format(\n",
        "      name=fn, length=len(uploaded[fn])))"
      ],
      "execution_count": 0,
      "outputs": []
    },
    {
      "cell_type": "code",
      "metadata": {
        "id": "J4KBGW8lGIIJ",
        "colab_type": "code",
        "colab": {}
      },
      "source": [
        "word_freq = {}\n",
        "total_count = []\n",
        "original_words = []"
      ],
      "execution_count": 0,
      "outputs": []
    },
    {
      "cell_type": "code",
      "metadata": {
        "id": "ZjFNZOYIE29S",
        "colab_type": "code",
        "colab": {}
      },
      "source": [
        "with open('eng_news_2016_1M-words.txt') as f:\n",
        "  for line in f:\n",
        "    \n",
        "    parts = line.split()\n",
        "    \n",
        "    array_parts = np.array(parts)\n",
        "    if array_parts.shape[0] == 4:\n",
        "      word_freq[array_parts[1]] = array_parts[3]\n",
        "      total_count.append(array_parts[3])\n",
        "      original_words.append(array_parts[1])   "
      ],
      "execution_count": 0,
      "outputs": []
    },
    {
      "cell_type": "code",
      "metadata": {
        "id": "JGF4Hz9NFJ4v",
        "colab_type": "code",
        "colab": {}
      },
      "source": [
        "sum_value = 0\n",
        "size = len(total_count)\n",
        "for i in range(size):\n",
        "  sum_value += int(total_count[i])"
      ],
      "execution_count": 0,
      "outputs": []
    },
    {
      "cell_type": "code",
      "metadata": {
        "id": "HWwSR2QmQv73",
        "colab_type": "code",
        "colab": {}
      },
      "source": [
        "unique_words = len(set(original_words))\n",
        "print(unique_words)"
      ],
      "execution_count": 0,
      "outputs": []
    },
    {
      "cell_type": "markdown",
      "metadata": {
        "id": "twgPDDMa-Jm1",
        "colab_type": "text"
      },
      "source": [
        "for value in freq:\n",
        "  total_count += value\n"
      ]
    },
    {
      "cell_type": "code",
      "metadata": {
        "id": "9hnQebfcFxIQ",
        "colab_type": "code",
        "colab": {}
      },
      "source": [
        "def prob_unigram(word):\n",
        "  try:\n",
        "    \n",
        "    prob = (int(word_freq[word])+1)/(sum_value+unique_words)\n",
        "    return prob\n",
        "   \n",
        "  except:\n",
        "    print('word not available')\n",
        "  \n"
      ],
      "execution_count": 0,
      "outputs": []
    },
    {
      "cell_type": "code",
      "metadata": {
        "id": "a9Gq4EzPjJzr",
        "colab_type": "code",
        "colab": {}
      },
      "source": [
        "\n",
        "prob_unigram('speling')"
      ],
      "execution_count": 0,
      "outputs": []
    },
    {
      "cell_type": "code",
      "metadata": {
        "id": "gGb3D6ORV6Hy",
        "colab_type": "code",
        "colab": {}
      },
      "source": [
        "def spellchecker(word):\n",
        "  try:\n",
        "    \n",
        "    \n",
        "    known_words = list(known_edits1(word))\n",
        "    first_word = known_words[0]\n",
        "    prob_dict = prob_estimate(known_words,word)\n",
        "    prob = {}\n",
        "    for key_word in known_words:\n",
        "      \n",
        "      w = prob_dict[key_word] * prob_unigram(key_word)\n",
        "      prob[key_word] = w\n",
        "    k = prob[first_word]\n",
        "    l = known_words[0]\n",
        "    for key in known_words:\n",
        "      \n",
        "      if prob[key] > k:\n",
        "        \n",
        "        k = prob[key]\n",
        "        l = key\n",
        "    return l \n",
        "  except:\n",
        "    print('cannot find the correct spelling')\n",
        "    \n",
        "  "
      ],
      "execution_count": 0,
      "outputs": []
    },
    {
      "cell_type": "code",
      "metadata": {
        "id": "OVfL2y1r1R0A",
        "colab_type": "code",
        "colab": {}
      },
      "source": [
        "\n",
        "\n",
        "spellchecker('helo')"
      ],
      "execution_count": 0,
      "outputs": []
    },
    {
      "cell_type": "code",
      "metadata": {
        "id": "ZJob9pPbXk8v",
        "colab_type": "code",
        "colab": {}
      },
      "source": [
        " edittype('helol','hello')"
      ],
      "execution_count": 0,
      "outputs": []
    },
    {
      "cell_type": "code",
      "metadata": {
        "id": "L54GYEdC6neb",
        "colab_type": "code",
        "colab": {}
      },
      "source": [
        ""
      ],
      "execution_count": 0,
      "outputs": []
    }
  ]
}